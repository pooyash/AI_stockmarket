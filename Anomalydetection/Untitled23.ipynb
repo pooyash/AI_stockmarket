{
  "cells": [
    {
      "cell_type": "code",
      "execution_count": null,
      "metadata": {
        "colab": {
          "base_uri": "https://localhost:8080/"
        },
        "id": "s4ywNhbudl5X",
        "outputId": "9092522e-ba9d-47cc-ff5f-500c03b3944e"
      },
      "outputs": [
        {
          "name": "stdout",
          "output_type": "stream",
          "text": [
            "Collecting TA-Lib\n",
            "  Downloading TA-Lib-0.4.32.tar.gz (368 kB)\n",
            "\u001b[?25l     \u001b[90m━━━━━━━━━━━━━━━━━━━━━━━━━━━━━━━━━━━━━━━━\u001b[0m \u001b[32m0.0/368.5 kB\u001b[0m \u001b[31m?\u001b[0m eta \u001b[36m-:--:--\u001b[0m\r\u001b[2K     \u001b[91m━━━━━━━━━━━━━━━━━━━━━━━━━\u001b[0m\u001b[91m╸\u001b[0m\u001b[90m━━━━━━━━━━━━━━\u001b[0m \u001b[32m235.5/368.5 kB\u001b[0m \u001b[31m6.9 MB/s\u001b[0m eta \u001b[36m0:00:01\u001b[0m\r\u001b[2K     \u001b[90m━━━━━━━━━━━━━━━━━━━━━━━━━━━━━━━━━━━━━━━━\u001b[0m \u001b[32m368.5/368.5 kB\u001b[0m \u001b[31m6.6 MB/s\u001b[0m eta \u001b[36m0:00:00\u001b[0m\n",
            "\u001b[?25h  Installing build dependencies ... \u001b[?25l\u001b[?25hdone\n",
            "  Getting requirements to build wheel ... \u001b[?25l\u001b[?25hdone\n",
            "  Preparing metadata (pyproject.toml) ... \u001b[?25l\u001b[?25hdone\n",
            "Requirement already satisfied: numpy in /usr/local/lib/python3.10/dist-packages (from TA-Lib) (1.26.4)\n",
            "Building wheels for collected packages: TA-Lib\n",
            "  \u001b[1;31merror\u001b[0m: \u001b[1msubprocess-exited-with-error\u001b[0m\n",
            "  \n",
            "  \u001b[31m×\u001b[0m \u001b[32mBuilding wheel for TA-Lib \u001b[0m\u001b[1;32m(\u001b[0m\u001b[32mpyproject.toml\u001b[0m\u001b[1;32m)\u001b[0m did not run successfully.\n",
            "  \u001b[31m│\u001b[0m exit code: \u001b[1;36m1\u001b[0m\n",
            "  \u001b[31m╰─>\u001b[0m See above for output.\n",
            "  \n",
            "  \u001b[1;35mnote\u001b[0m: This error originates from a subprocess, and is likely not a problem with pip.\n",
            "  Building wheel for TA-Lib (pyproject.toml) ... \u001b[?25l\u001b[?25herror\n",
            "\u001b[31m  ERROR: Failed building wheel for TA-Lib\u001b[0m\u001b[31m\n",
            "\u001b[0mFailed to build TA-Lib\n",
            "\u001b[31mERROR: ERROR: Failed to build installable wheels for some pyproject.toml based projects (TA-Lib)\u001b[0m\u001b[31m\n",
            "\u001b[0m"
          ]
        }
      ],
      "source": [
        "pip install TA-Lib"
      ]
    },
    {
      "cell_type": "code",
      "execution_count": null,
      "metadata": {
        "colab": {
          "base_uri": "https://localhost:8080/"
        },
        "id": "RNHEbo18b3Nl",
        "outputId": "28703a8a-4429-4e8d-8f7f-bf9dfa6fb931"
      },
      "outputs": [
        {
          "output_type": "stream",
          "name": "stderr",
          "text": [
            "\r[*********************100%***********************]  1 of 1 completed"
          ]
        },
        {
          "output_type": "stream",
          "name": "stdout",
          "text": [
            "                  Close       SMA_20  volatility   upper_band   lower_band\n",
            "Date                                                                      \n",
            "2017-09-06  4597.120117  4381.569507    0.035017  4848.073956  3915.065057\n",
            "2017-09-07  4599.879883  4403.532495    0.033539  4867.592096  3939.472894\n",
            "2017-09-08  4228.750000  4405.284985    0.038671  4866.262582  3944.307388\n",
            "2017-09-09  4226.060059  4412.204993    0.038174  4856.976914  3967.433071\n",
            "2017-09-10  4122.939941  4418.264990    0.038291  4842.308949  3994.221031\n"
          ]
        },
        {
          "output_type": "stream",
          "name": "stderr",
          "text": [
            "\n"
          ]
        }
      ],
      "source": [
        "import yfinance as yf\n",
        "\n",
        "# Fetch historical data for Bitcoin (or any stock)\n",
        "ticker = 'BTC-USD'\n",
        "bitcoin_data = yf.download(ticker, start='2017-08-17', end='2024-09-15')\n",
        "\n",
        "# 1. Calculate RSI to detect overconfidence or panic selling\n",
        "#bitcoin_data['RSI'] = talib.RSI(bitcoin_data['Close'], timeperiod=14)\n",
        "\n",
        "# 2. Calculate Moving Averages (SMA/EMA) to detect herd behavior\n",
        "bitcoin_data['SMA_20'] = bitcoin_data['Close'].rolling(window=20).mean()  # 20-day Simple Moving Average\n",
        "bitcoin_data['EMA_50'] = bitcoin_data['Close'].ewm(span=50, adjust=False).mean()  # 50-day Exponential Moving Average\n",
        "\n",
        "# 3. Calculate volatility to detect fear and uncertainty\n",
        "bitcoin_data['volatility'] = bitcoin_data['Close'].pct_change().rolling(window=20).std()\n",
        "\n",
        "# 4. Bollinger Bands to detect fear and greed\n",
        "bitcoin_data['middle_band'] = bitcoin_data['Close'].rolling(window=20).mean()\n",
        "bitcoin_data['upper_band'] = bitcoin_data['middle_band'] + 2*bitcoin_data['Close'].rolling(window=20).std()\n",
        "bitcoin_data['lower_band'] = bitcoin_data['middle_band'] - 2*bitcoin_data['Close'].rolling(window=20).std()\n",
        "\n",
        "# Drop rows where the calculated indicators are NaN\n",
        "bitcoin_data.dropna(inplace=True)\n",
        "\n",
        "# Display the first few rows after dropping NaN values\n",
        "print(bitcoin_data[['Close', 'SMA_20', 'volatility', 'upper_band', 'lower_band']].head())\n"
      ]
    },
    {
      "cell_type": "code",
      "execution_count": null,
      "metadata": {
        "colab": {
          "base_uri": "https://localhost:8080/"
        },
        "id": "t_3NYI8_d2W3",
        "outputId": "b5c236d3-99dd-40ac-d0e2-64b5b65f2924"
      },
      "outputs": [
        {
          "output_type": "stream",
          "name": "stdout",
          "text": [
            "Status Code: 200\n",
            "Response Text: Invalid query start date format (must be in YYYYMMDDHHMMSS format).\n",
            "\n",
            "Error decoding JSON: Expecting value: line 1 column 1 (char 0)\n"
          ]
        }
      ],
      "source": [
        "import requests\n",
        "import pandas as pd\n",
        "\n",
        "# Function to fetch GDELT data\n",
        "def fetch_gdelt_data(start_date, end_date, keyword):\n",
        "    url = f\"https://api.gdeltproject.org/api/v2/doc/doc?query={keyword}&mode=artlist&maxrecords=100&format=json&startdatetime={start_date}&enddatetime={end_date}\"\n",
        "    response = requests.get(url)\n",
        "\n",
        "    # Print the raw response to see what the API is returning\n",
        "    print(f\"Status Code: {response.status_code}\")\n",
        "    print(f\"Response Text: {response.text}\")  # Print the raw response\n",
        "\n",
        "    if response.status_code == 200:\n",
        "        try:\n",
        "            data = response.json()['articles']\n",
        "            return pd.DataFrame(data)\n",
        "        except ValueError as e:\n",
        "            print(f\"Error decoding JSON: {e}\")\n",
        "            return pd.DataFrame()  # Return an empty DataFrame if there's a JSON decoding issue\n",
        "    else:\n",
        "        print(f\"Error: {response.status_code}\")\n",
        "        return pd.DataFrame()  # Return an empty DataFrame if the request fails\n",
        "\n",
        "# Example parameters\n",
        "start_date = \"2017-09-07\"\n",
        "end_date = \"2024-09-15\"\n",
        "keyword = \"Bitcoin\"\n",
        "\n",
        "# Fetch the GDELT data\n",
        "gdelt_df = fetch_gdelt_data(start_date, end_date, keyword)\n"
      ]
    }
  ],
  "metadata": {
    "colab": {
      "provenance": []
    },
    "kernelspec": {
      "display_name": "Python 3",
      "name": "python3"
    },
    "language_info": {
      "name": "python"
    }
  },
  "nbformat": 4,
  "nbformat_minor": 0
}